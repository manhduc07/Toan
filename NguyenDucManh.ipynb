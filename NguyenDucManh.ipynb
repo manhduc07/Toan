{
  "nbformat": 4,
  "nbformat_minor": 0,
  "metadata": {
    "colab": {
      "provenance": [],
      "authorship_tag": "ABX9TyNbi92KduK6Qp1pwAfBvTL4",
      "include_colab_link": true
    },
    "kernelspec": {
      "name": "python3",
      "display_name": "Python 3"
    },
    "language_info": {
      "name": "python"
    }
  },
  "cells": [
    {
      "cell_type": "markdown",
      "metadata": {
        "id": "view-in-github",
        "colab_type": "text"
      },
      "source": [
        "<a href=\"https://colab.research.google.com/github/manhduc07/Toan/blob/main/NguyenDucManh.ipynb\" target=\"_parent\"><img src=\"https://colab.research.google.com/assets/colab-badge.svg\" alt=\"Open In Colab\"/></a>"
      ]
    },
    {
      "cell_type": "code",
      "execution_count": 1,
      "metadata": {
        "id": "5Ore9KTl1nWP"
      },
      "outputs": [],
      "source": [
        "from cvxopt import matrix, solvers"
      ]
    },
    {
      "cell_type": "markdown",
      "source": [
        "Bài 1:"
      ],
      "metadata": {
        "id": "3OGZZJ1d1yq2"
      }
    },
    {
      "cell_type": "code",
      "source": [
        "# Khai báo hàm mục tiêu\n",
        "c1 = matrix([-3., -5.])\n",
        "\n",
        "# Khai báo các ràng buộc\n",
        "G1 = matrix([[2., 0., 1.], [1., 1., 0.]])\n",
        "h1 = matrix([8., 4., 3.])"
      ],
      "metadata": {
        "id": "27Fs6Hse106H"
      },
      "execution_count": 2,
      "outputs": []
    },
    {
      "cell_type": "code",
      "source": [
        "solvers.options['show_progress'] = False\n",
        "sol = solvers.lp(c1, G1, h1)\n",
        "print('Phương án tối ưu cho bài toán 1')\n",
        "print(sol['x'])"
      ],
      "metadata": {
        "colab": {
          "base_uri": "https://localhost:8080/"
        },
        "id": "SUAqt_Uc2EKC",
        "outputId": "7d01e632-0636-4f37-bd2e-e4c5dac9a979"
      },
      "execution_count": 3,
      "outputs": [
        {
          "output_type": "stream",
          "name": "stdout",
          "text": [
            "Phương án tối ưu cho bài toán i\n",
            "[ 2.00e+00]\n",
            "[ 4.00e+00]\n",
            "\n"
          ]
        }
      ]
    },
    {
      "cell_type": "markdown",
      "source": [
        "Bài 2:"
      ],
      "metadata": {
        "id": "0_WUeOTB2YJC"
      }
    },
    {
      "cell_type": "code",
      "source": [
        "#khai báo hàm:\n",
        "c2 = matrix([2., -4., -1.])\n",
        "G2 = matrix([[0.1, 0.3, 0.02], [0.2, 0.4, 0.01], [0.3, 0.2, 0.03]])\n",
        "h2 = matrix([90., 130., 10.])"
      ],
      "metadata": {
        "id": "eRjx_XJN2ZlS"
      },
      "execution_count": 6,
      "outputs": []
    },
    {
      "cell_type": "code",
      "source": [
        "solvers.options['show_progress'] = False\n",
        "sol = solvers.lp(c2, G2, h2)\n",
        "\n",
        "print('Phương án tối ưu cho bài toán 2')\n",
        "print(sol['x'])\n"
      ],
      "metadata": {
        "colab": {
          "base_uri": "https://localhost:8080/"
        },
        "id": "Vi4IeyXT2eBc",
        "outputId": "3b585e4c-4a39-4893-a9c5-ad38ad32d130"
      },
      "execution_count": 7,
      "outputs": [
        {
          "output_type": "stream",
          "name": "stdout",
          "text": [
            "Phương án tối ưu cho bài toán 2\n",
            "[-1.57e+00]\n",
            "[ 1.71e-01]\n",
            "[-2.82e+00]\n",
            "\n"
          ]
        }
      ]
    }
  ]
}